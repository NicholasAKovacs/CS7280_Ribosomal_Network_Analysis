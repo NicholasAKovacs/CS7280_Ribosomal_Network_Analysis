{
 "cells": [
  {
   "cell_type": "code",
   "execution_count": null,
   "metadata": {
    "collapsed": true
   },
   "outputs": [],
   "source": [
    "# LOAD STRUCTURE (OPENBABEL)\n",
    "ob_conv = ob.OBConversion()\n",
    "ob_conv.SetInFormat('mmcif')\n",
    "mol = ob.OBMol()\n",
    "ob_conv.ReadFile(mol, pdb_filename)\n",
    "\n",
    "logging.info('Loaded PDB structure (OpenBabel)')\n",
    "\n",
    "# RENAME FOR OUTPUTS IF REQUESTED\n",
    "if args.output_postfix:\n",
    "    pdb_filename = pdb_filename.replace('.pdb', args.output_postfix + '.pdb')\n",
    "\n",
    "# CHECK THAT EACH ATOM HAS A UNIQUE SERIAL NUMBER\n",
    "all_serials = [x.serial_number for x in s_atoms]\n",
    "\n",
    "if len(all_serials) > len(set(all_serials)):\n",
    "    raise AtomSerialError"
   ]
  },
  {
   "cell_type": "code",
   "execution_count": 1,
   "metadata": {
    "collapsed": true
   },
   "outputs": [],
   "source": [
    "import openbabel as ob"
   ]
  },
  {
   "cell_type": "code",
   "execution_count": 2,
   "metadata": {
    "collapsed": true
   },
   "outputs": [],
   "source": [
    "ob_conv = ob.OBConversion()"
   ]
  },
  {
   "cell_type": "code",
   "execution_count": 3,
   "metadata": {},
   "outputs": [
    {
     "data": {
      "text/plain": [
       "True"
      ]
     },
     "execution_count": 3,
     "metadata": {},
     "output_type": "execute_result"
    }
   ],
   "source": [
    "ob_conv.SetInFormat('mmcif')"
   ]
  },
  {
   "cell_type": "code",
   "execution_count": 4,
   "metadata": {
    "collapsed": true
   },
   "outputs": [],
   "source": [
    "mol = ob.OBMol()"
   ]
  },
  {
   "cell_type": "code",
   "execution_count": 5,
   "metadata": {},
   "outputs": [
    {
     "data": {
      "text/plain": [
       "True"
      ]
     },
     "execution_count": 5,
     "metadata": {},
     "output_type": "execute_result"
    }
   ],
   "source": [
    "ob_conv.ReadFile(mol, '/home/nick/Downloads/1ubq.cif')"
   ]
  },
  {
   "cell_type": "code",
   "execution_count": null,
   "metadata": {
    "collapsed": true
   },
   "outputs": [],
   "source": []
  }
 ],
 "metadata": {
  "kernelspec": {
   "display_name": "Python 2",
   "language": "python",
   "name": "python2"
  },
  "language_info": {
   "codemirror_mode": {
    "name": "ipython",
    "version": 2
   },
   "file_extension": ".py",
   "mimetype": "text/x-python",
   "name": "python",
   "nbconvert_exporter": "python",
   "pygments_lexer": "ipython2",
   "version": "2.7.14"
  }
 },
 "nbformat": 4,
 "nbformat_minor": 2
}
